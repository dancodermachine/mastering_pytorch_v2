{
  "cells": [
    {
      "cell_type": "code",
      "execution_count": 1,
      "metadata": {
        "colab": {
          "base_uri": "https://localhost:8080/"
        },
        "id": "536mxh2GArXK",
        "outputId": "974f8a8d-5a93-4bbf-95d8-afadbea974d6"
      },
      "outputs": [
        {
          "output_type": "stream",
          "name": "stdout",
          "text": [
            "Requirement already satisfied: torch==2.2 in /usr/local/lib/python3.10/dist-packages (2.2.0)\n",
            "Requirement already satisfied: filelock in /usr/local/lib/python3.10/dist-packages (from torch==2.2) (3.15.4)\n",
            "Requirement already satisfied: typing-extensions>=4.8.0 in /usr/local/lib/python3.10/dist-packages (from torch==2.2) (4.12.2)\n",
            "Requirement already satisfied: sympy in /usr/local/lib/python3.10/dist-packages (from torch==2.2) (1.13.0)\n",
            "Requirement already satisfied: networkx in /usr/local/lib/python3.10/dist-packages (from torch==2.2) (3.3)\n",
            "Requirement already satisfied: jinja2 in /usr/local/lib/python3.10/dist-packages (from torch==2.2) (3.1.4)\n",
            "Requirement already satisfied: fsspec in /usr/local/lib/python3.10/dist-packages (from torch==2.2) (2023.6.0)\n",
            "Requirement already satisfied: nvidia-cuda-nvrtc-cu12==12.1.105 in /usr/local/lib/python3.10/dist-packages (from torch==2.2) (12.1.105)\n",
            "Requirement already satisfied: nvidia-cuda-runtime-cu12==12.1.105 in /usr/local/lib/python3.10/dist-packages (from torch==2.2) (12.1.105)\n",
            "Requirement already satisfied: nvidia-cuda-cupti-cu12==12.1.105 in /usr/local/lib/python3.10/dist-packages (from torch==2.2) (12.1.105)\n",
            "Requirement already satisfied: nvidia-cudnn-cu12==8.9.2.26 in /usr/local/lib/python3.10/dist-packages (from torch==2.2) (8.9.2.26)\n",
            "Requirement already satisfied: nvidia-cublas-cu12==12.1.3.1 in /usr/local/lib/python3.10/dist-packages (from torch==2.2) (12.1.3.1)\n",
            "Requirement already satisfied: nvidia-cufft-cu12==11.0.2.54 in /usr/local/lib/python3.10/dist-packages (from torch==2.2) (11.0.2.54)\n",
            "Requirement already satisfied: nvidia-curand-cu12==10.3.2.106 in /usr/local/lib/python3.10/dist-packages (from torch==2.2) (10.3.2.106)\n",
            "Requirement already satisfied: nvidia-cusolver-cu12==11.4.5.107 in /usr/local/lib/python3.10/dist-packages (from torch==2.2) (11.4.5.107)\n",
            "Requirement already satisfied: nvidia-cusparse-cu12==12.1.0.106 in /usr/local/lib/python3.10/dist-packages (from torch==2.2) (12.1.0.106)\n",
            "Requirement already satisfied: nvidia-nccl-cu12==2.19.3 in /usr/local/lib/python3.10/dist-packages (from torch==2.2) (2.19.3)\n",
            "Requirement already satisfied: nvidia-nvtx-cu12==12.1.105 in /usr/local/lib/python3.10/dist-packages (from torch==2.2) (12.1.105)\n",
            "Requirement already satisfied: triton==2.2.0 in /usr/local/lib/python3.10/dist-packages (from torch==2.2) (2.2.0)\n",
            "Requirement already satisfied: nvidia-nvjitlink-cu12 in /usr/local/lib/python3.10/dist-packages (from nvidia-cusolver-cu12==11.4.5.107->torch==2.2) (12.5.82)\n",
            "Requirement already satisfied: MarkupSafe>=2.0 in /usr/local/lib/python3.10/dist-packages (from jinja2->torch==2.2) (2.1.5)\n",
            "Requirement already satisfied: mpmath<1.4,>=1.1.0 in /usr/local/lib/python3.10/dist-packages (from sympy->torch==2.2) (1.3.0)\n",
            "Requirement already satisfied: torchvision==0.17 in /usr/local/lib/python3.10/dist-packages (0.17.0)\n",
            "Requirement already satisfied: numpy in /usr/local/lib/python3.10/dist-packages (from torchvision==0.17) (1.25.2)\n",
            "Requirement already satisfied: requests in /usr/local/lib/python3.10/dist-packages (from torchvision==0.17) (2.31.0)\n",
            "Requirement already satisfied: torch==2.2.0 in /usr/local/lib/python3.10/dist-packages (from torchvision==0.17) (2.2.0)\n",
            "Requirement already satisfied: pillow!=8.3.*,>=5.3.0 in /usr/local/lib/python3.10/dist-packages (from torchvision==0.17) (9.4.0)\n",
            "Requirement already satisfied: filelock in /usr/local/lib/python3.10/dist-packages (from torch==2.2.0->torchvision==0.17) (3.15.4)\n",
            "Requirement already satisfied: typing-extensions>=4.8.0 in /usr/local/lib/python3.10/dist-packages (from torch==2.2.0->torchvision==0.17) (4.12.2)\n",
            "Requirement already satisfied: sympy in /usr/local/lib/python3.10/dist-packages (from torch==2.2.0->torchvision==0.17) (1.13.0)\n",
            "Requirement already satisfied: networkx in /usr/local/lib/python3.10/dist-packages (from torch==2.2.0->torchvision==0.17) (3.3)\n",
            "Requirement already satisfied: jinja2 in /usr/local/lib/python3.10/dist-packages (from torch==2.2.0->torchvision==0.17) (3.1.4)\n",
            "Requirement already satisfied: fsspec in /usr/local/lib/python3.10/dist-packages (from torch==2.2.0->torchvision==0.17) (2023.6.0)\n",
            "Requirement already satisfied: nvidia-cuda-nvrtc-cu12==12.1.105 in /usr/local/lib/python3.10/dist-packages (from torch==2.2.0->torchvision==0.17) (12.1.105)\n",
            "Requirement already satisfied: nvidia-cuda-runtime-cu12==12.1.105 in /usr/local/lib/python3.10/dist-packages (from torch==2.2.0->torchvision==0.17) (12.1.105)\n",
            "Requirement already satisfied: nvidia-cuda-cupti-cu12==12.1.105 in /usr/local/lib/python3.10/dist-packages (from torch==2.2.0->torchvision==0.17) (12.1.105)\n",
            "Requirement already satisfied: nvidia-cudnn-cu12==8.9.2.26 in /usr/local/lib/python3.10/dist-packages (from torch==2.2.0->torchvision==0.17) (8.9.2.26)\n",
            "Requirement already satisfied: nvidia-cublas-cu12==12.1.3.1 in /usr/local/lib/python3.10/dist-packages (from torch==2.2.0->torchvision==0.17) (12.1.3.1)\n",
            "Requirement already satisfied: nvidia-cufft-cu12==11.0.2.54 in /usr/local/lib/python3.10/dist-packages (from torch==2.2.0->torchvision==0.17) (11.0.2.54)\n",
            "Requirement already satisfied: nvidia-curand-cu12==10.3.2.106 in /usr/local/lib/python3.10/dist-packages (from torch==2.2.0->torchvision==0.17) (10.3.2.106)\n",
            "Requirement already satisfied: nvidia-cusolver-cu12==11.4.5.107 in /usr/local/lib/python3.10/dist-packages (from torch==2.2.0->torchvision==0.17) (11.4.5.107)\n",
            "Requirement already satisfied: nvidia-cusparse-cu12==12.1.0.106 in /usr/local/lib/python3.10/dist-packages (from torch==2.2.0->torchvision==0.17) (12.1.0.106)\n",
            "Requirement already satisfied: nvidia-nccl-cu12==2.19.3 in /usr/local/lib/python3.10/dist-packages (from torch==2.2.0->torchvision==0.17) (2.19.3)\n",
            "Requirement already satisfied: nvidia-nvtx-cu12==12.1.105 in /usr/local/lib/python3.10/dist-packages (from torch==2.2.0->torchvision==0.17) (12.1.105)\n",
            "Requirement already satisfied: triton==2.2.0 in /usr/local/lib/python3.10/dist-packages (from torch==2.2.0->torchvision==0.17) (2.2.0)\n",
            "Requirement already satisfied: nvidia-nvjitlink-cu12 in /usr/local/lib/python3.10/dist-packages (from nvidia-cusolver-cu12==11.4.5.107->torch==2.2.0->torchvision==0.17) (12.5.82)\n",
            "Requirement already satisfied: charset-normalizer<4,>=2 in /usr/local/lib/python3.10/dist-packages (from requests->torchvision==0.17) (3.3.2)\n",
            "Requirement already satisfied: idna<4,>=2.5 in /usr/local/lib/python3.10/dist-packages (from requests->torchvision==0.17) (3.7)\n",
            "Requirement already satisfied: urllib3<3,>=1.21.1 in /usr/local/lib/python3.10/dist-packages (from requests->torchvision==0.17) (2.0.7)\n",
            "Requirement already satisfied: certifi>=2017.4.17 in /usr/local/lib/python3.10/dist-packages (from requests->torchvision==0.17) (2024.7.4)\n",
            "Requirement already satisfied: MarkupSafe>=2.0 in /usr/local/lib/python3.10/dist-packages (from jinja2->torch==2.2.0->torchvision==0.17) (2.1.5)\n",
            "Requirement already satisfied: mpmath<1.4,>=1.1.0 in /usr/local/lib/python3.10/dist-packages (from sympy->torch==2.2.0->torchvision==0.17) (1.3.0)\n"
          ]
        }
      ],
      "source": [
        "!pip install torch==2.2\n",
        "!pip install torchvision==0.17"
      ]
    },
    {
      "cell_type": "code",
      "execution_count": 2,
      "metadata": {
        "id": "ezrp6UoTGeDz"
      },
      "outputs": [],
      "source": [
        "import torch\n",
        "import torch.nn as nn\n",
        "import torch.nn.functional as F\n",
        "import torch.optim as optim\n",
        "from torch.utils.data import DataLoader\n",
        "from torchvision import datasets, transforms\n",
        "import gc\n",
        "import math\n",
        "import matplotlib.pyplot as plt"
      ]
    },
    {
      "cell_type": "markdown",
      "metadata": {
        "id": "W2HD1C4qZR-E"
      },
      "source": [
        "## Intro"
      ]
    },
    {
      "cell_type": "code",
      "execution_count": 3,
      "metadata": {
        "colab": {
          "base_uri": "https://localhost:8080/"
        },
        "id": "chFpnQYUHGXc",
        "outputId": "8cc80c49-6e8e-4293-c688-7ef28bbe790c"
      },
      "outputs": [
        {
          "output_type": "execute_result",
          "data": {
            "text/plain": [
              "tensor([1., 4., 2., 1., 3., 5.])"
            ]
          },
          "metadata": {},
          "execution_count": 3
        }
      ],
      "source": [
        "points = torch.tensor([1.0, 4.0, 2.0, 1.0, 3.0, 5.0])\n",
        "points"
      ]
    },
    {
      "cell_type": "code",
      "execution_count": 4,
      "metadata": {
        "colab": {
          "base_uri": "https://localhost:8080/"
        },
        "id": "I-Iw6GZsG4GP",
        "outputId": "a35a4767-6e46-4e40-e807-87bb6ba68d13"
      },
      "outputs": [
        {
          "output_type": "execute_result",
          "data": {
            "text/plain": [
              "torch.Size([6])"
            ]
          },
          "metadata": {},
          "execution_count": 4
        }
      ],
      "source": [
        "points.shape"
      ]
    },
    {
      "cell_type": "code",
      "execution_count": 5,
      "metadata": {
        "colab": {
          "base_uri": "https://localhost:8080/"
        },
        "id": "nW9-1TblG864",
        "outputId": "4dca93e3-7a1f-41fc-dfd1-aad7e0b43800"
      },
      "outputs": [
        {
          "output_type": "stream",
          "name": "stderr",
          "text": [
            "<ipython-input-5-aa051972579d>:2: UserWarning: TypedStorage is deprecated. It will be removed in the future and UntypedStorage will be the only storage class. This should only matter to you if you are using storages directly.  To access UntypedStorage directly, use tensor.untyped_storage() instead of tensor.storage()\n",
            "  points.storage()\n"
          ]
        },
        {
          "output_type": "execute_result",
          "data": {
            "text/plain": [
              " 1.0\n",
              " 4.0\n",
              " 2.0\n",
              " 1.0\n",
              " 3.0\n",
              " 5.0\n",
              "[torch.storage.TypedStorage(dtype=torch.float32, device=cpu) of size 6]"
            ]
          },
          "metadata": {},
          "execution_count": 5
        }
      ],
      "source": [
        "points = torch.tensor([[1.0, 4.0], [2.0, 1.0], [3.0, 5.0]])\n",
        "points.storage()"
      ]
    },
    {
      "cell_type": "code",
      "execution_count": 6,
      "metadata": {
        "colab": {
          "base_uri": "https://localhost:8080/"
        },
        "id": "U69C5iQkHOEP",
        "outputId": "bbe872c7-24fa-4552-dce2-d767ea6de066"
      },
      "outputs": [
        {
          "output_type": "execute_result",
          "data": {
            "text/plain": [
              " 0\n",
              " 0\n",
              " 128\n",
              " 63\n",
              " 0\n",
              " 0\n",
              " 128\n",
              " 64\n",
              " 0\n",
              " 0\n",
              " 0\n",
              " 64\n",
              " 0\n",
              " 0\n",
              " 128\n",
              " 63\n",
              " 0\n",
              " 0\n",
              " 64\n",
              " 64\n",
              " 0\n",
              " 0\n",
              " 160\n",
              " 64\n",
              "[torch.storage.UntypedStorage(device=cpu) of size 24]"
            ]
          },
          "metadata": {},
          "execution_count": 6
        }
      ],
      "source": [
        "points.untyped_storage()"
      ]
    },
    {
      "cell_type": "code",
      "execution_count": 7,
      "metadata": {
        "colab": {
          "base_uri": "https://localhost:8080/"
        },
        "id": "W1gLlU6OHk-2",
        "outputId": "ba2bce74-365e-47cf-fd2b-01caf5e9e4de"
      },
      "outputs": [
        {
          "output_type": "execute_result",
          "data": {
            "text/plain": [
              "torch.Size([3, 2])"
            ]
          },
          "metadata": {},
          "execution_count": 7
        }
      ],
      "source": [
        "points.size()"
      ]
    },
    {
      "cell_type": "code",
      "execution_count": 8,
      "metadata": {
        "colab": {
          "base_uri": "https://localhost:8080/"
        },
        "id": "gjUNdWNAHry9",
        "outputId": "c9c41330-1665-4e45-e0c4-12274ffc6387"
      },
      "outputs": [
        {
          "output_type": "execute_result",
          "data": {
            "text/plain": [
              "0"
            ]
          },
          "metadata": {},
          "execution_count": 8
        }
      ],
      "source": [
        "points.storage_offset()"
      ]
    },
    {
      "cell_type": "code",
      "execution_count": 9,
      "metadata": {
        "colab": {
          "base_uri": "https://localhost:8080/"
        },
        "id": "9yJswW3AH2U6",
        "outputId": "80f67da8-7297-4c2e-a338-a49244a07f6a"
      },
      "outputs": [
        {
          "output_type": "execute_result",
          "data": {
            "text/plain": [
              "2"
            ]
          },
          "metadata": {},
          "execution_count": 9
        }
      ],
      "source": [
        "points[1].storage_offset()"
      ]
    },
    {
      "cell_type": "code",
      "execution_count": 10,
      "metadata": {
        "colab": {
          "base_uri": "https://localhost:8080/"
        },
        "id": "T-jzVrlcIHDt",
        "outputId": "545338fb-afe8-4d1e-b9f2-93f699e97655"
      },
      "outputs": [
        {
          "output_type": "execute_result",
          "data": {
            "text/plain": [
              "(2, 1)"
            ]
          },
          "metadata": {},
          "execution_count": 10
        }
      ],
      "source": [
        "points.stride()"
      ]
    },
    {
      "cell_type": "markdown",
      "metadata": {
        "id": "pWkJW3eSI3UN"
      },
      "source": [
        "## Data types\n",
        "PyTorch offers the following data types to be contained within tensors:\n",
        "* `torch.float32` or `torch.float` - 32-bit floating-point.\n",
        "* `torch.float64` or `torch.double` - 64-bit, double-precision floating-point.\n",
        "* `torch.float16` or `torch.half` - 16-bit, half-precision floating-point.\n",
        "* `torch.int8` - Signed 8-bit integers.\n",
        "* `torch.uint-8` - Unsigned 8-bit integers.\n",
        "* `torch.int16` or `torch.short` - Signed 16-bit integers.\n",
        "* `torch.int32` or `torch.int` - Signed 32-bit integers.\n",
        "* `torch.int32` or `torch.long` - Signed 64-bit integers."
      ]
    },
    {
      "cell_type": "code",
      "execution_count": 11,
      "metadata": {
        "colab": {
          "base_uri": "https://localhost:8080/"
        },
        "id": "-kV39-5OIPD6",
        "outputId": "21ab056e-a4e1-45e3-9db7-65e275ad2e8f"
      },
      "outputs": [
        {
          "output_type": "execute_result",
          "data": {
            "text/plain": [
              "tensor([[1., 2.],\n",
              "        [3., 4.]])"
            ]
          },
          "metadata": {},
          "execution_count": 11
        }
      ],
      "source": [
        "points = torch.tensor([[1.0, 2.0], [3.0, 4.0]], dtype=torch.float32, device='cpu')\n",
        "points"
      ]
    },
    {
      "cell_type": "code",
      "execution_count": 12,
      "metadata": {
        "id": "LiZseHdwKJ58"
      },
      "outputs": [],
      "source": [
        "# points = points.to(device='cuda')"
      ]
    },
    {
      "cell_type": "code",
      "execution_count": 13,
      "metadata": {
        "colab": {
          "base_uri": "https://localhost:8080/"
        },
        "id": "5C-YZkxlKNSB",
        "outputId": "1a42e557-1ae1-4eee-850d-437c5f854de0"
      },
      "outputs": [
        {
          "output_type": "execute_result",
          "data": {
            "text/plain": [
              "False"
            ]
          },
          "metadata": {},
          "execution_count": 13
        }
      ],
      "source": [
        "points.is_cuda"
      ]
    },
    {
      "cell_type": "code",
      "execution_count": 14,
      "metadata": {
        "colab": {
          "base_uri": "https://localhost:8080/"
        },
        "id": "H3j_89MoM4T0",
        "outputId": "476260fd-be9e-4eef-aa7d-317d9355fa65"
      },
      "outputs": [
        {
          "output_type": "execute_result",
          "data": {
            "text/plain": [
              "tensor([[1., 2.],\n",
              "        [3., 4.]])"
            ]
          },
          "metadata": {},
          "execution_count": 14
        }
      ],
      "source": [
        "points"
      ]
    },
    {
      "cell_type": "code",
      "execution_count": 15,
      "metadata": {
        "id": "B65j-y7INPEr"
      },
      "outputs": [],
      "source": [
        "points = points.to(device='cpu')"
      ]
    },
    {
      "cell_type": "code",
      "execution_count": 16,
      "metadata": {
        "colab": {
          "base_uri": "https://localhost:8080/"
        },
        "id": "SAx2NjQLNR_t",
        "outputId": "d7835539-8e95-49b8-97c4-d8819c0a111a"
      },
      "outputs": [
        {
          "output_type": "execute_result",
          "data": {
            "text/plain": [
              "False"
            ]
          },
          "metadata": {},
          "execution_count": 16
        }
      ],
      "source": [
        "points.is_cuda"
      ]
    },
    {
      "cell_type": "code",
      "execution_count": 17,
      "metadata": {
        "colab": {
          "base_uri": "https://localhost:8080/"
        },
        "id": "6scqlFASNH3q",
        "outputId": "b09b7e4c-183c-4752-fd1d-3dbc3b5afec3"
      },
      "outputs": [
        {
          "output_type": "stream",
          "name": "stdout",
          "text": [
            "/bin/bash: line 1: nvidia-smi: command not found\n"
          ]
        }
      ],
      "source": [
        "!nvidia-smi"
      ]
    },
    {
      "cell_type": "markdown",
      "metadata": {
        "id": "6AaZGc-JM0IA"
      },
      "source": [
        "## PyTorch Modules\n",
        "### a) `torch.nn`"
      ]
    },
    {
      "cell_type": "code",
      "execution_count": 18,
      "metadata": {
        "colab": {
          "base_uri": "https://localhost:8080/"
        },
        "id": "s9sms9PYLXb8",
        "outputId": "c263818a-e835-4ca9-ac75-6bb8f4b4dc8e"
      },
      "outputs": [
        {
          "output_type": "execute_result",
          "data": {
            "text/plain": [
              "tensor([[-0.0057, -0.0494, -0.0140,  0.0036],\n",
              "        [-0.0210, -0.0818,  0.0366,  0.0356],\n",
              "        [ 0.0396,  0.0517, -0.0301,  0.0713],\n",
              "        ...,\n",
              "        [ 0.0731,  0.0497, -0.1134,  0.0504],\n",
              "        [-0.0613,  0.0301, -0.0857, -0.0681],\n",
              "        [ 0.0020, -0.0513,  0.0038, -0.0422]])"
            ]
          },
          "metadata": {},
          "execution_count": 18
        }
      ],
      "source": [
        "weights = torch.randn(256, 4) / math.sqrt(256)\n",
        "weights"
      ]
    },
    {
      "cell_type": "code",
      "execution_count": 19,
      "metadata": {
        "colab": {
          "base_uri": "https://localhost:8080/"
        },
        "id": "CXk4UlbhVNJD",
        "outputId": "e639568a-9520-467d-db97-ed1afd679856"
      },
      "outputs": [
        {
          "output_type": "execute_result",
          "data": {
            "text/plain": [
              "tensor([[-0.0057, -0.0494, -0.0140,  0.0036],\n",
              "        [-0.0210, -0.0818,  0.0366,  0.0356],\n",
              "        [ 0.0396,  0.0517, -0.0301,  0.0713],\n",
              "        ...,\n",
              "        [ 0.0731,  0.0497, -0.1134,  0.0504],\n",
              "        [-0.0613,  0.0301, -0.0857, -0.0681],\n",
              "        [ 0.0020, -0.0513,  0.0038, -0.0422]], requires_grad=True)"
            ]
          },
          "metadata": {},
          "execution_count": 19
        }
      ],
      "source": [
        "# We then ensure that the parameters of this neural network are trainable, that is, the numbers in the 256x4 matrix can be\n",
        "# tuned with the help of back propagation.\n",
        "weights.requires_grad_()"
      ]
    },
    {
      "cell_type": "code",
      "execution_count": 20,
      "metadata": {
        "colab": {
          "base_uri": "https://localhost:8080/"
        },
        "id": "QLLTb78SVg3f",
        "outputId": "422f9874-8349-467d-c2f1-c8a7042900c0"
      },
      "outputs": [
        {
          "output_type": "execute_result",
          "data": {
            "text/plain": [
              "tensor([0., 0., 0., 0.], requires_grad=True)"
            ]
          },
          "metadata": {},
          "execution_count": 20
        }
      ],
      "source": [
        "# Finally we also add the bias weights for the 4-dimensiona output, and make these trainable too\n",
        "bias = torch.zeros(4, requires_grad=True)\n",
        "bias"
      ]
    },
    {
      "cell_type": "code",
      "execution_count": 21,
      "metadata": {
        "colab": {
          "base_uri": "https://localhost:8080/"
        },
        "id": "cdq9JCg0V6zg",
        "outputId": "47f2c138-e686-47da-8c2d-1034b41d58a4"
      },
      "outputs": [
        {
          "output_type": "execute_result",
          "data": {
            "text/plain": [
              "Linear(in_features=256, out_features=4, bias=True)"
            ]
          },
          "metadata": {},
          "execution_count": 21
        }
      ],
      "source": [
        "# We can instead use nn.Linear(256, 4) to represent the same thing in PyTorch\n",
        "nn.Linear(256, 4)"
      ]
    },
    {
      "cell_type": "code",
      "execution_count": 22,
      "metadata": {
        "id": "zM2mQWCBXLLq"
      },
      "outputs": [],
      "source": [
        "#loss_funct = F.cross_entropy\n",
        "#loss = loss_funct(model(X), y)"
      ]
    },
    {
      "cell_type": "markdown",
      "metadata": {
        "id": "cGauD2A_bWwQ"
      },
      "source": [
        "### b) `torch.optim`"
      ]
    },
    {
      "cell_type": "code",
      "execution_count": 23,
      "metadata": {
        "id": "AGCxBd3mazOs"
      },
      "outputs": [],
      "source": [
        "#opt = optim.SGD(model.parameters(), lr=lr)"
      ]
    },
    {
      "cell_type": "markdown",
      "metadata": {
        "id": "Cv8bEVzncSb8"
      },
      "source": [
        "### c) `torch.utils.data`"
      ]
    },
    {
      "cell_type": "code",
      "execution_count": 23,
      "metadata": {
        "id": "8qqXB3ggbwDh"
      },
      "outputs": [],
      "source": []
    },
    {
      "cell_type": "markdown",
      "metadata": {
        "id": "EVkbRfG8cpls"
      },
      "source": [
        "## Training a Neural Network using PyTorch\n",
        "### a) Define Model Architecture"
      ]
    },
    {
      "cell_type": "markdown",
      "metadata": {
        "id": "AbbSGHAz8hCK"
      },
      "source": [
        "![ConvNet](https://github.com/dancodermachine/mastering_pytorch_v2/blob/main/images/chap1_cnn.png?raw=True)"
      ]
    },
    {
      "cell_type": "code",
      "execution_count": 24,
      "metadata": {
        "id": "5_IaDG1zctVy"
      },
      "outputs": [],
      "source": [
        "class ConvNet(nn.Module):\n",
        "  def __init__(self):\n",
        "    super().__init__()\n",
        "    self.cn1 = nn.Conv2d(1, 16, 3, 1)\n",
        "    self.cn2 = nn.Conv2d(16, 32, 3, 1)\n",
        "    self.dp1 = nn.Dropout2d(0.10)\n",
        "    self.dp2 = nn.Dropout2d(0.25)\n",
        "    self.fc1 = nn.Linear(4608, 64)\n",
        "    self.fc2 = nn.Linear(64, 10)\n",
        "\n",
        "  def forward(self, x):\n",
        "    x = self.cn1(x)\n",
        "    x = F.relu(x)\n",
        "    x = self.cn2(x)\n",
        "    x = F.relu(x)\n",
        "    x = F.max_pool2d(x, 2)\n",
        "    x = self.dp1(x)\n",
        "    x = torch.flatten(x, 1)\n",
        "    x = self.fc1(x)\n",
        "    x = F.relu(x)\n",
        "    x = self.dp2(x)\n",
        "    x = self.fc2(x)\n",
        "    op = F.log_softmax(x, dim=1)\n",
        "    return op"
      ]
    },
    {
      "cell_type": "markdown",
      "metadata": {
        "id": "UCSWa5TgnErV"
      },
      "source": [
        "## b) Define Training and Inference Routines"
      ]
    },
    {
      "cell_type": "code",
      "execution_count": 25,
      "metadata": {
        "id": "Xttq6tMrm6fg"
      },
      "outputs": [],
      "source": [
        "def train(model, device, train_dataloader, optim, epoch):\n",
        "  model.train()\n",
        "  for b_i, (X, y) in enumerate(train_dataloader):\n",
        "    X, y = X.to(device), y.to(device)\n",
        "    optim.zero_grad()\n",
        "    pred_prob = model(X)\n",
        "    loss = F.nll_loss(pred_prob, y)\n",
        "    loss.backward()\n",
        "    optim.step()\n",
        "    if b_i % 10 == 0:\n",
        "      print(\"Epoch: {} [{}/{} ({:.0f}%)]\\t training loss {:.6f}\".format(epoch,\n",
        "                                                                        b_i * len(X), # Instances\n",
        "                                                                        len(train_dataloader.dataset),\n",
        "                                                                        100. * b_i / len(train_dataloader),\n",
        "                                                                        loss.item()))"
      ]
    },
    {
      "cell_type": "code",
      "execution_count": 26,
      "metadata": {
        "id": "gM3ELD2eobUs"
      },
      "outputs": [],
      "source": [
        "def test(model, device, test_dataloader):\n",
        "  model.eval()\n",
        "  loss = 0\n",
        "  success = 0\n",
        "  with torch.no_grad():\n",
        "    for X, y in test_dataloader:\n",
        "      X, y = X.to(device), y.to(device)\n",
        "      pred_prob = model(X)\n",
        "      loss += F.nll_loss(pred_prob, y, reduction='sum').item() # Loss summed across the batch\n",
        "      pred = pred_prob.argmax(dim=1, keepdim=True) # Use argmax to get the most likely prediction\n",
        "      success += pred.eq(y.view_as(pred)).sum().item()\n",
        "\n",
        "  loss /= len(test_dataloader.dataset)\n",
        "\n",
        "  print(\"\\nTest dataset: Overall Loss: {:.4f}, Overall Accuracy: {}/{} ({:.0f}%)\\n\".format(loss,\n",
        "                                                                                           success,\n",
        "                                                                                           len(test_dataloader.dataset),\n",
        "                                                                                           100. * success / len(test_dataloader.dataset)))"
      ]
    },
    {
      "cell_type": "markdown",
      "metadata": {
        "id": "gk6cfGAOqtRB"
      },
      "source": [
        "### c) Create Data Loaders"
      ]
    },
    {
      "cell_type": "code",
      "execution_count": 27,
      "metadata": {
        "id": "2SrYsYYgpmoq"
      },
      "outputs": [],
      "source": [
        "# The mean and std values are calculated as the mean of all pixel values of all images in the training dataset.\n",
        "train_dataloader = torch.utils.data.DataLoader(datasets.MNIST(\"../data\",\n",
        "                                                              train=True,\n",
        "                                                              download=True,\n",
        "                                                              transform=transforms.Compose([transforms.ToTensor(),\n",
        "                                                                                            transforms.Normalize((0.1302),\n",
        "                                                                                                                 (0.3069))])),\n",
        "                                               batch_size=32,\n",
        "                                               shuffle=True)\n",
        "\n",
        "test_dataloader = torch.utils.data.DataLoader(datasets.MNIST(\"../data\",\n",
        "                                                             train=False,\n",
        "                                                             transform=transforms.Compose([transforms.ToTensor(),\n",
        "                                                                                           transforms.Normalize((0.1302),\n",
        "                                                                                                                (0.3069))])),\n",
        "                                              batch_size=512,\n",
        "                                              shuffle=False)"
      ]
    },
    {
      "cell_type": "markdown",
      "metadata": {
        "id": "6O7shnljuGYH"
      },
      "source": [
        "### d) Define Optimizer and Run Training Epochs"
      ]
    },
    {
      "cell_type": "code",
      "execution_count": 28,
      "metadata": {
        "id": "CVBQ-4wJsNYX"
      },
      "outputs": [],
      "source": [
        "torch.manual_seed(0)\n",
        "device = torch.device(\"cpu\")\n",
        "\n",
        "model = ConvNet()\n",
        "optimizer = optim.Adadelta(model.parameters(), lr=0.5)"
      ]
    },
    {
      "cell_type": "markdown",
      "metadata": {
        "id": "OIl-DdIIutZM"
      },
      "source": [
        "### e) Model Training"
      ]
    },
    {
      "cell_type": "code",
      "execution_count": 29,
      "metadata": {
        "colab": {
          "base_uri": "https://localhost:8080/"
        },
        "id": "XJTUqf4Hus5d",
        "outputId": "61daa0e9-c7f6-42c4-fb6a-dd47ba02a5d2"
      },
      "outputs": [
        {
          "output_type": "stream",
          "name": "stderr",
          "text": [
            "/usr/local/lib/python3.10/dist-packages/torch/nn/functional.py:1347: UserWarning: dropout2d: Received a 2-D input to dropout2d, which is deprecated and will result in an error in a future release. To retain the behavior and silence this warning, please use dropout instead. Note that dropout2d exists to provide channel-wise dropout on inputs with 2 spatial dimensions, a channel dimension, and an optional batch dimension (i.e. 3D or 4D inputs).\n",
            "  warnings.warn(warn_msg)\n"
          ]
        },
        {
          "output_type": "stream",
          "name": "stdout",
          "text": [
            "Epoch: 1 [0/60000 (0%)]\t training loss 2.310609\n",
            "Epoch: 1 [320/60000 (1%)]\t training loss 1.924133\n",
            "Epoch: 1 [640/60000 (1%)]\t training loss 1.313336\n",
            "Epoch: 1 [960/60000 (2%)]\t training loss 0.796470\n",
            "Epoch: 1 [1280/60000 (2%)]\t training loss 0.819801\n",
            "Epoch: 1 [1600/60000 (3%)]\t training loss 0.678430\n",
            "Epoch: 1 [1920/60000 (3%)]\t training loss 0.477187\n",
            "Epoch: 1 [2240/60000 (4%)]\t training loss 0.529062\n",
            "Epoch: 1 [2560/60000 (4%)]\t training loss 0.468829\n",
            "Epoch: 1 [2880/60000 (5%)]\t training loss 0.242887\n",
            "Epoch: 1 [3200/60000 (5%)]\t training loss 0.519633\n",
            "Epoch: 1 [3520/60000 (6%)]\t training loss 0.262872\n",
            "Epoch: 1 [3840/60000 (6%)]\t training loss 0.467795\n",
            "Epoch: 1 [4160/60000 (7%)]\t training loss 0.417298\n",
            "Epoch: 1 [4480/60000 (7%)]\t training loss 0.316030\n",
            "Epoch: 1 [4800/60000 (8%)]\t training loss 0.498437\n",
            "Epoch: 1 [5120/60000 (9%)]\t training loss 0.157880\n",
            "Epoch: 1 [5440/60000 (9%)]\t training loss 0.364403\n",
            "Epoch: 1 [5760/60000 (10%)]\t training loss 0.085984\n",
            "Epoch: 1 [6080/60000 (10%)]\t training loss 0.177615\n",
            "Epoch: 1 [6400/60000 (11%)]\t training loss 0.278263\n",
            "Epoch: 1 [6720/60000 (11%)]\t training loss 0.082559\n",
            "Epoch: 1 [7040/60000 (12%)]\t training loss 0.351368\n",
            "Epoch: 1 [7360/60000 (12%)]\t training loss 0.040539\n",
            "Epoch: 1 [7680/60000 (13%)]\t training loss 0.367039\n",
            "Epoch: 1 [8000/60000 (13%)]\t training loss 0.219277\n",
            "Epoch: 1 [8320/60000 (14%)]\t training loss 0.329156\n",
            "Epoch: 1 [8640/60000 (14%)]\t training loss 0.214590\n",
            "Epoch: 1 [8960/60000 (15%)]\t training loss 0.057667\n",
            "Epoch: 1 [9280/60000 (15%)]\t training loss 0.345586\n",
            "Epoch: 1 [9600/60000 (16%)]\t training loss 0.205804\n",
            "Epoch: 1 [9920/60000 (17%)]\t training loss 0.209767\n",
            "Epoch: 1 [10240/60000 (17%)]\t training loss 0.209993\n",
            "Epoch: 1 [10560/60000 (18%)]\t training loss 0.403128\n",
            "Epoch: 1 [10880/60000 (18%)]\t training loss 0.071791\n",
            "Epoch: 1 [11200/60000 (19%)]\t training loss 0.069998\n",
            "Epoch: 1 [11520/60000 (19%)]\t training loss 0.231422\n",
            "Epoch: 1 [11840/60000 (20%)]\t training loss 0.072475\n",
            "Epoch: 1 [12160/60000 (20%)]\t training loss 0.409647\n",
            "Epoch: 1 [12480/60000 (21%)]\t training loss 0.021981\n",
            "Epoch: 1 [12800/60000 (21%)]\t training loss 0.093394\n",
            "Epoch: 1 [13120/60000 (22%)]\t training loss 0.085837\n",
            "Epoch: 1 [13440/60000 (22%)]\t training loss 0.161934\n",
            "Epoch: 1 [13760/60000 (23%)]\t training loss 0.065058\n",
            "Epoch: 1 [14080/60000 (23%)]\t training loss 0.046802\n",
            "Epoch: 1 [14400/60000 (24%)]\t training loss 0.083767\n",
            "Epoch: 1 [14720/60000 (25%)]\t training loss 0.167542\n",
            "Epoch: 1 [15040/60000 (25%)]\t training loss 0.345123\n",
            "Epoch: 1 [15360/60000 (26%)]\t training loss 0.091196\n",
            "Epoch: 1 [15680/60000 (26%)]\t training loss 0.108777\n",
            "Epoch: 1 [16000/60000 (27%)]\t training loss 0.075832\n",
            "Epoch: 1 [16320/60000 (27%)]\t training loss 0.171944\n",
            "Epoch: 1 [16640/60000 (28%)]\t training loss 0.029883\n",
            "Epoch: 1 [16960/60000 (28%)]\t training loss 0.333812\n",
            "Epoch: 1 [17280/60000 (29%)]\t training loss 0.060629\n",
            "Epoch: 1 [17600/60000 (29%)]\t training loss 0.028994\n",
            "Epoch: 1 [17920/60000 (30%)]\t training loss 0.040753\n",
            "Epoch: 1 [18240/60000 (30%)]\t training loss 0.019892\n",
            "Epoch: 1 [18560/60000 (31%)]\t training loss 0.057777\n",
            "Epoch: 1 [18880/60000 (31%)]\t training loss 0.236884\n",
            "Epoch: 1 [19200/60000 (32%)]\t training loss 0.088455\n",
            "Epoch: 1 [19520/60000 (33%)]\t training loss 0.067441\n",
            "Epoch: 1 [19840/60000 (33%)]\t training loss 0.063453\n",
            "Epoch: 1 [20160/60000 (34%)]\t training loss 0.107841\n",
            "Epoch: 1 [20480/60000 (34%)]\t training loss 0.060509\n",
            "Epoch: 1 [20800/60000 (35%)]\t training loss 0.205607\n",
            "Epoch: 1 [21120/60000 (35%)]\t training loss 0.280535\n",
            "Epoch: 1 [21440/60000 (36%)]\t training loss 0.262102\n",
            "Epoch: 1 [21760/60000 (36%)]\t training loss 0.109629\n",
            "Epoch: 1 [22080/60000 (37%)]\t training loss 0.096564\n",
            "Epoch: 1 [22400/60000 (37%)]\t training loss 0.134667\n",
            "Epoch: 1 [22720/60000 (38%)]\t training loss 0.265525\n",
            "Epoch: 1 [23040/60000 (38%)]\t training loss 0.076615\n",
            "Epoch: 1 [23360/60000 (39%)]\t training loss 0.125220\n",
            "Epoch: 1 [23680/60000 (39%)]\t training loss 0.251269\n",
            "Epoch: 1 [24000/60000 (40%)]\t training loss 0.215296\n",
            "Epoch: 1 [24320/60000 (41%)]\t training loss 0.065185\n",
            "Epoch: 1 [24640/60000 (41%)]\t training loss 0.140391\n",
            "Epoch: 1 [24960/60000 (42%)]\t training loss 0.027044\n",
            "Epoch: 1 [25280/60000 (42%)]\t training loss 0.024160\n",
            "Epoch: 1 [25600/60000 (43%)]\t training loss 0.570725\n",
            "Epoch: 1 [25920/60000 (43%)]\t training loss 0.460728\n",
            "Epoch: 1 [26240/60000 (44%)]\t training loss 0.129823\n",
            "Epoch: 1 [26560/60000 (44%)]\t training loss 0.040875\n",
            "Epoch: 1 [26880/60000 (45%)]\t training loss 0.150539\n",
            "Epoch: 1 [27200/60000 (45%)]\t training loss 0.018501\n",
            "Epoch: 1 [27520/60000 (46%)]\t training loss 0.040860\n",
            "Epoch: 1 [27840/60000 (46%)]\t training loss 0.136634\n",
            "Epoch: 1 [28160/60000 (47%)]\t training loss 0.048300\n",
            "Epoch: 1 [28480/60000 (47%)]\t training loss 0.392610\n",
            "Epoch: 1 [28800/60000 (48%)]\t training loss 0.119276\n",
            "Epoch: 1 [29120/60000 (49%)]\t training loss 0.198008\n",
            "Epoch: 1 [29440/60000 (49%)]\t training loss 0.014311\n",
            "Epoch: 1 [29760/60000 (50%)]\t training loss 0.053688\n",
            "Epoch: 1 [30080/60000 (50%)]\t training loss 0.541627\n",
            "Epoch: 1 [30400/60000 (51%)]\t training loss 0.127081\n",
            "Epoch: 1 [30720/60000 (51%)]\t training loss 0.230976\n",
            "Epoch: 1 [31040/60000 (52%)]\t training loss 0.080813\n",
            "Epoch: 1 [31360/60000 (52%)]\t training loss 0.070519\n",
            "Epoch: 1 [31680/60000 (53%)]\t training loss 0.026341\n",
            "Epoch: 1 [32000/60000 (53%)]\t training loss 0.011774\n",
            "Epoch: 1 [32320/60000 (54%)]\t training loss 0.110159\n",
            "Epoch: 1 [32640/60000 (54%)]\t training loss 0.095929\n",
            "Epoch: 1 [32960/60000 (55%)]\t training loss 0.042572\n",
            "Epoch: 1 [33280/60000 (55%)]\t training loss 0.260714\n",
            "Epoch: 1 [33600/60000 (56%)]\t training loss 0.192777\n",
            "Epoch: 1 [33920/60000 (57%)]\t training loss 0.019657\n",
            "Epoch: 1 [34240/60000 (57%)]\t training loss 0.024119\n",
            "Epoch: 1 [34560/60000 (58%)]\t training loss 0.002996\n",
            "Epoch: 1 [34880/60000 (58%)]\t training loss 0.175705\n",
            "Epoch: 1 [35200/60000 (59%)]\t training loss 0.279498\n",
            "Epoch: 1 [35520/60000 (59%)]\t training loss 0.133032\n",
            "Epoch: 1 [35840/60000 (60%)]\t training loss 0.012259\n",
            "Epoch: 1 [36160/60000 (60%)]\t training loss 0.141879\n",
            "Epoch: 1 [36480/60000 (61%)]\t training loss 0.105978\n",
            "Epoch: 1 [36800/60000 (61%)]\t training loss 0.136131\n",
            "Epoch: 1 [37120/60000 (62%)]\t training loss 0.046783\n",
            "Epoch: 1 [37440/60000 (62%)]\t training loss 0.229350\n",
            "Epoch: 1 [37760/60000 (63%)]\t training loss 0.023725\n",
            "Epoch: 1 [38080/60000 (63%)]\t training loss 0.125504\n",
            "Epoch: 1 [38400/60000 (64%)]\t training loss 0.044750\n",
            "Epoch: 1 [38720/60000 (65%)]\t training loss 0.422863\n",
            "Epoch: 1 [39040/60000 (65%)]\t training loss 0.047209\n",
            "Epoch: 1 [39360/60000 (66%)]\t training loss 0.201553\n",
            "Epoch: 1 [39680/60000 (66%)]\t training loss 0.020029\n",
            "Epoch: 1 [40000/60000 (67%)]\t training loss 0.153952\n",
            "Epoch: 1 [40320/60000 (67%)]\t training loss 0.078929\n",
            "Epoch: 1 [40640/60000 (68%)]\t training loss 0.169443\n",
            "Epoch: 1 [40960/60000 (68%)]\t training loss 0.198745\n",
            "Epoch: 1 [41280/60000 (69%)]\t training loss 0.204217\n",
            "Epoch: 1 [41600/60000 (69%)]\t training loss 0.136150\n",
            "Epoch: 1 [41920/60000 (70%)]\t training loss 0.039529\n",
            "Epoch: 1 [42240/60000 (70%)]\t training loss 0.011084\n",
            "Epoch: 1 [42560/60000 (71%)]\t training loss 0.041894\n",
            "Epoch: 1 [42880/60000 (71%)]\t training loss 0.121699\n",
            "Epoch: 1 [43200/60000 (72%)]\t training loss 0.057140\n",
            "Epoch: 1 [43520/60000 (73%)]\t training loss 0.245478\n",
            "Epoch: 1 [43840/60000 (73%)]\t training loss 0.057972\n",
            "Epoch: 1 [44160/60000 (74%)]\t training loss 0.153300\n",
            "Epoch: 1 [44480/60000 (74%)]\t training loss 0.068017\n",
            "Epoch: 1 [44800/60000 (75%)]\t training loss 0.214221\n",
            "Epoch: 1 [45120/60000 (75%)]\t training loss 0.019666\n",
            "Epoch: 1 [45440/60000 (76%)]\t training loss 0.183320\n",
            "Epoch: 1 [45760/60000 (76%)]\t training loss 0.004745\n",
            "Epoch: 1 [46080/60000 (77%)]\t training loss 0.230460\n",
            "Epoch: 1 [46400/60000 (77%)]\t training loss 0.047609\n",
            "Epoch: 1 [46720/60000 (78%)]\t training loss 0.104887\n",
            "Epoch: 1 [47040/60000 (78%)]\t training loss 0.056543\n",
            "Epoch: 1 [47360/60000 (79%)]\t training loss 0.026343\n",
            "Epoch: 1 [47680/60000 (79%)]\t training loss 0.208909\n",
            "Epoch: 1 [48000/60000 (80%)]\t training loss 0.173453\n",
            "Epoch: 1 [48320/60000 (81%)]\t training loss 0.171665\n",
            "Epoch: 1 [48640/60000 (81%)]\t training loss 0.011326\n",
            "Epoch: 1 [48960/60000 (82%)]\t training loss 0.078636\n",
            "Epoch: 1 [49280/60000 (82%)]\t training loss 0.175529\n",
            "Epoch: 1 [49600/60000 (83%)]\t training loss 0.225299\n",
            "Epoch: 1 [49920/60000 (83%)]\t training loss 0.166357\n",
            "Epoch: 1 [50240/60000 (84%)]\t training loss 0.066043\n",
            "Epoch: 1 [50560/60000 (84%)]\t training loss 0.003922\n",
            "Epoch: 1 [50880/60000 (85%)]\t training loss 0.004356\n",
            "Epoch: 1 [51200/60000 (85%)]\t training loss 0.197849\n",
            "Epoch: 1 [51520/60000 (86%)]\t training loss 0.025213\n",
            "Epoch: 1 [51840/60000 (86%)]\t training loss 0.018620\n",
            "Epoch: 1 [52160/60000 (87%)]\t training loss 0.012329\n",
            "Epoch: 1 [52480/60000 (87%)]\t training loss 0.009802\n",
            "Epoch: 1 [52800/60000 (88%)]\t training loss 0.033116\n",
            "Epoch: 1 [53120/60000 (89%)]\t training loss 0.028992\n",
            "Epoch: 1 [53440/60000 (89%)]\t training loss 0.013409\n",
            "Epoch: 1 [53760/60000 (90%)]\t training loss 0.037544\n",
            "Epoch: 1 [54080/60000 (90%)]\t training loss 0.011171\n",
            "Epoch: 1 [54400/60000 (91%)]\t training loss 0.117641\n",
            "Epoch: 1 [54720/60000 (91%)]\t training loss 0.013717\n",
            "Epoch: 1 [55040/60000 (92%)]\t training loss 0.001378\n",
            "Epoch: 1 [55360/60000 (92%)]\t training loss 0.045877\n",
            "Epoch: 1 [55680/60000 (93%)]\t training loss 0.052783\n",
            "Epoch: 1 [56000/60000 (93%)]\t training loss 0.048510\n",
            "Epoch: 1 [56320/60000 (94%)]\t training loss 0.142568\n",
            "Epoch: 1 [56640/60000 (94%)]\t training loss 0.053807\n",
            "Epoch: 1 [56960/60000 (95%)]\t training loss 0.029687\n",
            "Epoch: 1 [57280/60000 (95%)]\t training loss 0.087261\n",
            "Epoch: 1 [57600/60000 (96%)]\t training loss 0.003207\n",
            "Epoch: 1 [57920/60000 (97%)]\t training loss 0.095157\n",
            "Epoch: 1 [58240/60000 (97%)]\t training loss 0.015331\n",
            "Epoch: 1 [58560/60000 (98%)]\t training loss 0.006808\n",
            "Epoch: 1 [58880/60000 (98%)]\t training loss 0.091058\n",
            "Epoch: 1 [59200/60000 (99%)]\t training loss 0.005085\n",
            "Epoch: 1 [59520/60000 (99%)]\t training loss 0.031503\n",
            "Epoch: 1 [59840/60000 (100%)]\t training loss 0.035041\n",
            "\n",
            "Test dataset: Overall Loss: 0.0481, Overall Accuracy: 9839/10000 (98%)\n",
            "\n",
            "Epoch: 2 [0/60000 (0%)]\t training loss 0.075432\n",
            "Epoch: 2 [320/60000 (1%)]\t training loss 0.046304\n",
            "Epoch: 2 [640/60000 (1%)]\t training loss 0.123041\n",
            "Epoch: 2 [960/60000 (2%)]\t training loss 0.068879\n",
            "Epoch: 2 [1280/60000 (2%)]\t training loss 0.054027\n",
            "Epoch: 2 [1600/60000 (3%)]\t training loss 0.002742\n",
            "Epoch: 2 [1920/60000 (3%)]\t training loss 0.076803\n",
            "Epoch: 2 [2240/60000 (4%)]\t training loss 0.025736\n",
            "Epoch: 2 [2560/60000 (4%)]\t training loss 0.112260\n",
            "Epoch: 2 [2880/60000 (5%)]\t training loss 0.008886\n",
            "Epoch: 2 [3200/60000 (5%)]\t training loss 0.077838\n",
            "Epoch: 2 [3520/60000 (6%)]\t training loss 0.015863\n",
            "Epoch: 2 [3840/60000 (6%)]\t training loss 0.098132\n",
            "Epoch: 2 [4160/60000 (7%)]\t training loss 0.021622\n",
            "Epoch: 2 [4480/60000 (7%)]\t training loss 0.020830\n",
            "Epoch: 2 [4800/60000 (8%)]\t training loss 0.017926\n",
            "Epoch: 2 [5120/60000 (9%)]\t training loss 0.185184\n",
            "Epoch: 2 [5440/60000 (9%)]\t training loss 0.149663\n",
            "Epoch: 2 [5760/60000 (10%)]\t training loss 0.089693\n",
            "Epoch: 2 [6080/60000 (10%)]\t training loss 0.070531\n",
            "Epoch: 2 [6400/60000 (11%)]\t training loss 0.034534\n",
            "Epoch: 2 [6720/60000 (11%)]\t training loss 0.049013\n",
            "Epoch: 2 [7040/60000 (12%)]\t training loss 0.012918\n",
            "Epoch: 2 [7360/60000 (12%)]\t training loss 0.101116\n",
            "Epoch: 2 [7680/60000 (13%)]\t training loss 0.016830\n",
            "Epoch: 2 [8000/60000 (13%)]\t training loss 0.235459\n",
            "Epoch: 2 [8320/60000 (14%)]\t training loss 0.088455\n",
            "Epoch: 2 [8640/60000 (14%)]\t training loss 0.020136\n",
            "Epoch: 2 [8960/60000 (15%)]\t training loss 0.030928\n",
            "Epoch: 2 [9280/60000 (15%)]\t training loss 0.002639\n",
            "Epoch: 2 [9600/60000 (16%)]\t training loss 0.062741\n",
            "Epoch: 2 [9920/60000 (17%)]\t training loss 0.003497\n",
            "Epoch: 2 [10240/60000 (17%)]\t training loss 0.007688\n",
            "Epoch: 2 [10560/60000 (18%)]\t training loss 0.001969\n",
            "Epoch: 2 [10880/60000 (18%)]\t training loss 0.087715\n",
            "Epoch: 2 [11200/60000 (19%)]\t training loss 0.021731\n",
            "Epoch: 2 [11520/60000 (19%)]\t training loss 0.017555\n",
            "Epoch: 2 [11840/60000 (20%)]\t training loss 0.104052\n",
            "Epoch: 2 [12160/60000 (20%)]\t training loss 0.068002\n",
            "Epoch: 2 [12480/60000 (21%)]\t training loss 0.053844\n",
            "Epoch: 2 [12800/60000 (21%)]\t training loss 0.006709\n",
            "Epoch: 2 [13120/60000 (22%)]\t training loss 0.190556\n",
            "Epoch: 2 [13440/60000 (22%)]\t training loss 0.033643\n",
            "Epoch: 2 [13760/60000 (23%)]\t training loss 0.115461\n",
            "Epoch: 2 [14080/60000 (23%)]\t training loss 0.042927\n",
            "Epoch: 2 [14400/60000 (24%)]\t training loss 0.034154\n",
            "Epoch: 2 [14720/60000 (25%)]\t training loss 0.007279\n",
            "Epoch: 2 [15040/60000 (25%)]\t training loss 0.002353\n",
            "Epoch: 2 [15360/60000 (26%)]\t training loss 0.073108\n",
            "Epoch: 2 [15680/60000 (26%)]\t training loss 0.039223\n",
            "Epoch: 2 [16000/60000 (27%)]\t training loss 0.090295\n",
            "Epoch: 2 [16320/60000 (27%)]\t training loss 0.156239\n",
            "Epoch: 2 [16640/60000 (28%)]\t training loss 0.007567\n",
            "Epoch: 2 [16960/60000 (28%)]\t training loss 0.370483\n",
            "Epoch: 2 [17280/60000 (29%)]\t training loss 0.052054\n",
            "Epoch: 2 [17600/60000 (29%)]\t training loss 0.082525\n",
            "Epoch: 2 [17920/60000 (30%)]\t training loss 0.091500\n",
            "Epoch: 2 [18240/60000 (30%)]\t training loss 0.081759\n",
            "Epoch: 2 [18560/60000 (31%)]\t training loss 0.002456\n",
            "Epoch: 2 [18880/60000 (31%)]\t training loss 0.086008\n",
            "Epoch: 2 [19200/60000 (32%)]\t training loss 0.111545\n",
            "Epoch: 2 [19520/60000 (33%)]\t training loss 0.012260\n",
            "Epoch: 2 [19840/60000 (33%)]\t training loss 0.061752\n",
            "Epoch: 2 [20160/60000 (34%)]\t training loss 0.014947\n",
            "Epoch: 2 [20480/60000 (34%)]\t training loss 0.107861\n",
            "Epoch: 2 [20800/60000 (35%)]\t training loss 0.018007\n",
            "Epoch: 2 [21120/60000 (35%)]\t training loss 0.071745\n",
            "Epoch: 2 [21440/60000 (36%)]\t training loss 0.047280\n",
            "Epoch: 2 [21760/60000 (36%)]\t training loss 0.011887\n",
            "Epoch: 2 [22080/60000 (37%)]\t training loss 0.018028\n",
            "Epoch: 2 [22400/60000 (37%)]\t training loss 0.002997\n",
            "Epoch: 2 [22720/60000 (38%)]\t training loss 0.007426\n",
            "Epoch: 2 [23040/60000 (38%)]\t training loss 0.076983\n",
            "Epoch: 2 [23360/60000 (39%)]\t training loss 0.119280\n",
            "Epoch: 2 [23680/60000 (39%)]\t training loss 0.178616\n",
            "Epoch: 2 [24000/60000 (40%)]\t training loss 0.024068\n",
            "Epoch: 2 [24320/60000 (41%)]\t training loss 0.024153\n",
            "Epoch: 2 [24640/60000 (41%)]\t training loss 0.096584\n",
            "Epoch: 2 [24960/60000 (42%)]\t training loss 0.044256\n",
            "Epoch: 2 [25280/60000 (42%)]\t training loss 0.080778\n",
            "Epoch: 2 [25600/60000 (43%)]\t training loss 0.094158\n",
            "Epoch: 2 [25920/60000 (43%)]\t training loss 0.012723\n",
            "Epoch: 2 [26240/60000 (44%)]\t training loss 0.001965\n",
            "Epoch: 2 [26560/60000 (44%)]\t training loss 0.008722\n",
            "Epoch: 2 [26880/60000 (45%)]\t training loss 0.049342\n",
            "Epoch: 2 [27200/60000 (45%)]\t training loss 0.437475\n",
            "Epoch: 2 [27520/60000 (46%)]\t training loss 0.093486\n",
            "Epoch: 2 [27840/60000 (46%)]\t training loss 0.005935\n",
            "Epoch: 2 [28160/60000 (47%)]\t training loss 0.035793\n",
            "Epoch: 2 [28480/60000 (47%)]\t training loss 0.070024\n",
            "Epoch: 2 [28800/60000 (48%)]\t training loss 0.008796\n",
            "Epoch: 2 [29120/60000 (49%)]\t training loss 0.005460\n",
            "Epoch: 2 [29440/60000 (49%)]\t training loss 0.075453\n",
            "Epoch: 2 [29760/60000 (50%)]\t training loss 0.082600\n",
            "Epoch: 2 [30080/60000 (50%)]\t training loss 0.025095\n",
            "Epoch: 2 [30400/60000 (51%)]\t training loss 0.008946\n",
            "Epoch: 2 [30720/60000 (51%)]\t training loss 0.017521\n",
            "Epoch: 2 [31040/60000 (52%)]\t training loss 0.144723\n",
            "Epoch: 2 [31360/60000 (52%)]\t training loss 0.040355\n",
            "Epoch: 2 [31680/60000 (53%)]\t training loss 0.009017\n",
            "Epoch: 2 [32000/60000 (53%)]\t training loss 0.003635\n",
            "Epoch: 2 [32320/60000 (54%)]\t training loss 0.007101\n",
            "Epoch: 2 [32640/60000 (54%)]\t training loss 0.021724\n",
            "Epoch: 2 [32960/60000 (55%)]\t training loss 0.000807\n",
            "Epoch: 2 [33280/60000 (55%)]\t training loss 0.173847\n",
            "Epoch: 2 [33600/60000 (56%)]\t training loss 0.010778\n",
            "Epoch: 2 [33920/60000 (57%)]\t training loss 0.013701\n",
            "Epoch: 2 [34240/60000 (57%)]\t training loss 0.399148\n",
            "Epoch: 2 [34560/60000 (58%)]\t training loss 0.005925\n",
            "Epoch: 2 [34880/60000 (58%)]\t training loss 0.115400\n",
            "Epoch: 2 [35200/60000 (59%)]\t training loss 0.012402\n",
            "Epoch: 2 [35520/60000 (59%)]\t training loss 0.039522\n",
            "Epoch: 2 [35840/60000 (60%)]\t training loss 0.003374\n",
            "Epoch: 2 [36160/60000 (60%)]\t training loss 0.032543\n",
            "Epoch: 2 [36480/60000 (61%)]\t training loss 0.080096\n",
            "Epoch: 2 [36800/60000 (61%)]\t training loss 0.002783\n",
            "Epoch: 2 [37120/60000 (62%)]\t training loss 0.456542\n",
            "Epoch: 2 [37440/60000 (62%)]\t training loss 0.004737\n",
            "Epoch: 2 [37760/60000 (63%)]\t training loss 0.076467\n",
            "Epoch: 2 [38080/60000 (63%)]\t training loss 0.019500\n",
            "Epoch: 2 [38400/60000 (64%)]\t training loss 0.035769\n",
            "Epoch: 2 [38720/60000 (65%)]\t training loss 0.074662\n",
            "Epoch: 2 [39040/60000 (65%)]\t training loss 0.034344\n",
            "Epoch: 2 [39360/60000 (66%)]\t training loss 0.004834\n",
            "Epoch: 2 [39680/60000 (66%)]\t training loss 0.155939\n",
            "Epoch: 2 [40000/60000 (67%)]\t training loss 0.013532\n",
            "Epoch: 2 [40320/60000 (67%)]\t training loss 0.274997\n",
            "Epoch: 2 [40640/60000 (68%)]\t training loss 0.598912\n",
            "Epoch: 2 [40960/60000 (68%)]\t training loss 0.069245\n",
            "Epoch: 2 [41280/60000 (69%)]\t training loss 0.055428\n",
            "Epoch: 2 [41600/60000 (69%)]\t training loss 0.175866\n",
            "Epoch: 2 [41920/60000 (70%)]\t training loss 0.005689\n",
            "Epoch: 2 [42240/60000 (70%)]\t training loss 0.010322\n",
            "Epoch: 2 [42560/60000 (71%)]\t training loss 0.049259\n",
            "Epoch: 2 [42880/60000 (71%)]\t training loss 0.006694\n",
            "Epoch: 2 [43200/60000 (72%)]\t training loss 0.002140\n",
            "Epoch: 2 [43520/60000 (73%)]\t training loss 0.077839\n",
            "Epoch: 2 [43840/60000 (73%)]\t training loss 0.263577\n",
            "Epoch: 2 [44160/60000 (74%)]\t training loss 0.123324\n",
            "Epoch: 2 [44480/60000 (74%)]\t training loss 0.026996\n",
            "Epoch: 2 [44800/60000 (75%)]\t training loss 0.003256\n",
            "Epoch: 2 [45120/60000 (75%)]\t training loss 0.062740\n",
            "Epoch: 2 [45440/60000 (76%)]\t training loss 0.031622\n",
            "Epoch: 2 [45760/60000 (76%)]\t training loss 0.036767\n",
            "Epoch: 2 [46080/60000 (77%)]\t training loss 0.099838\n",
            "Epoch: 2 [46400/60000 (77%)]\t training loss 0.026845\n",
            "Epoch: 2 [46720/60000 (78%)]\t training loss 0.220059\n",
            "Epoch: 2 [47040/60000 (78%)]\t training loss 0.025425\n",
            "Epoch: 2 [47360/60000 (79%)]\t training loss 0.046500\n",
            "Epoch: 2 [47680/60000 (79%)]\t training loss 0.023531\n",
            "Epoch: 2 [48000/60000 (80%)]\t training loss 0.090858\n",
            "Epoch: 2 [48320/60000 (81%)]\t training loss 0.197350\n",
            "Epoch: 2 [48640/60000 (81%)]\t training loss 0.030297\n",
            "Epoch: 2 [48960/60000 (82%)]\t training loss 0.005242\n",
            "Epoch: 2 [49280/60000 (82%)]\t training loss 0.002309\n",
            "Epoch: 2 [49600/60000 (83%)]\t training loss 0.020609\n",
            "Epoch: 2 [49920/60000 (83%)]\t training loss 0.100927\n",
            "Epoch: 2 [50240/60000 (84%)]\t training loss 0.015600\n",
            "Epoch: 2 [50560/60000 (84%)]\t training loss 0.004015\n",
            "Epoch: 2 [50880/60000 (85%)]\t training loss 0.003906\n",
            "Epoch: 2 [51200/60000 (85%)]\t training loss 0.044343\n",
            "Epoch: 2 [51520/60000 (86%)]\t training loss 0.221729\n",
            "Epoch: 2 [51840/60000 (86%)]\t training loss 0.005866\n",
            "Epoch: 2 [52160/60000 (87%)]\t training loss 0.003225\n",
            "Epoch: 2 [52480/60000 (87%)]\t training loss 0.128596\n",
            "Epoch: 2 [52800/60000 (88%)]\t training loss 0.041003\n",
            "Epoch: 2 [53120/60000 (89%)]\t training loss 0.004447\n",
            "Epoch: 2 [53440/60000 (89%)]\t training loss 0.125383\n",
            "Epoch: 2 [53760/60000 (90%)]\t training loss 0.191748\n",
            "Epoch: 2 [54080/60000 (90%)]\t training loss 0.002825\n",
            "Epoch: 2 [54400/60000 (91%)]\t training loss 0.376830\n",
            "Epoch: 2 [54720/60000 (91%)]\t training loss 0.116594\n",
            "Epoch: 2 [55040/60000 (92%)]\t training loss 0.034064\n",
            "Epoch: 2 [55360/60000 (92%)]\t training loss 0.066723\n",
            "Epoch: 2 [55680/60000 (93%)]\t training loss 0.009449\n",
            "Epoch: 2 [56000/60000 (93%)]\t training loss 0.019677\n",
            "Epoch: 2 [56320/60000 (94%)]\t training loss 0.001398\n",
            "Epoch: 2 [56640/60000 (94%)]\t training loss 0.050175\n",
            "Epoch: 2 [56960/60000 (95%)]\t training loss 0.012732\n",
            "Epoch: 2 [57280/60000 (95%)]\t training loss 0.014090\n",
            "Epoch: 2 [57600/60000 (96%)]\t training loss 0.065312\n",
            "Epoch: 2 [57920/60000 (97%)]\t training loss 0.133847\n",
            "Epoch: 2 [58240/60000 (97%)]\t training loss 0.051631\n",
            "Epoch: 2 [58560/60000 (98%)]\t training loss 0.003867\n",
            "Epoch: 2 [58880/60000 (98%)]\t training loss 0.003583\n",
            "Epoch: 2 [59200/60000 (99%)]\t training loss 0.010058\n",
            "Epoch: 2 [59520/60000 (99%)]\t training loss 0.014423\n",
            "Epoch: 2 [59840/60000 (100%)]\t training loss 0.007865\n",
            "\n",
            "Test dataset: Overall Loss: 0.0406, Overall Accuracy: 9863/10000 (99%)\n",
            "\n"
          ]
        }
      ],
      "source": [
        "for epoch in range(1, 3):\n",
        "  train(model, device, train_dataloader, optimizer, epoch)\n",
        "  test(model, device, test_dataloader)"
      ]
    },
    {
      "cell_type": "code",
      "execution_count": 30,
      "metadata": {
        "id": "RVeXHZEKu3cb",
        "colab": {
          "base_uri": "https://localhost:8080/"
        },
        "outputId": "8554a3b5-2b42-4912-b93b-b901fcb81700"
      },
      "outputs": [
        {
          "output_type": "stream",
          "name": "stdout",
          "text": [
            "/bin/bash: line 1: nvidia-smi: command not found\n"
          ]
        }
      ],
      "source": [
        "!nvidia-smi"
      ]
    },
    {
      "cell_type": "markdown",
      "metadata": {
        "id": "qiwXluhn16_9"
      },
      "source": [
        "### f) Run Inference on Trained Model"
      ]
    },
    {
      "cell_type": "code",
      "execution_count": 31,
      "metadata": {
        "id": "5gCQedpSvLbF",
        "colab": {
          "base_uri": "https://localhost:8080/",
          "height": 430
        },
        "outputId": "464089d5-aee5-4eac-ba8a-f7f413bcb832"
      },
      "outputs": [
        {
          "output_type": "display_data",
          "data": {
            "text/plain": [
              "<Figure size 640x480 with 1 Axes>"
            ],
            "image/png": "[encoded data removed]"
          },
          "metadata": {}
        }
      ],
      "source": [
        "test_samples = enumerate(test_dataloader)\n",
        "b_i, (sample_data, sample_targets) = next(test_samples)\n",
        "\n",
        "plt.imshow(sample_data[0][0], cmap='gray', interpolation='none')\n",
        "plt.show()"
      ]
    },
    {
      "cell_type": "code",
      "execution_count": 32,
      "metadata": {
        "id": "O13OGhZF2PYI",
        "colab": {
          "base_uri": "https://localhost:8080/"
        },
        "outputId": "ddc140c8-c312-4367-913e-81fa6cf19998"
      },
      "outputs": [
        {
          "output_type": "stream",
          "name": "stdout",
          "text": [
            "Model prediction is : 7\n",
            "Ground truth is : 7\n"
          ]
        }
      ],
      "source": [
        "print(f\"Model prediction is : {model(sample_data).data.max(1)[1][0]}\")\n",
        "print(f\"Ground truth is : {sample_targets[0]}\")"
      ]
    },
    {
      "cell_type": "markdown",
      "metadata": {
        "id": "n6QIWZrtKJV9"
      },
      "source": [
        "Reference:\n",
        "* https://github.com/arj7192/MasteringPyTorchV2/tree/main/Chapter01"
      ]
    }
  ],
  "metadata": {
    "colab": {
      "provenance": [],
      "authorship_tag": "ABX9TyP3SBPvxV/jnWmCiuTmrwoS"
    },
    "kernelspec": {
      "display_name": "Python 3",
      "name": "python3"
    },
    "language_info": {
      "name": "python"
    }
  },
  "nbformat": 4,
  "nbformat_minor": 0
}